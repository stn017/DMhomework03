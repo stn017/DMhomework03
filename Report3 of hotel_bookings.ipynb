{
 "cells": [
  {
   "cell_type": "markdown",
   "metadata": {},
   "source": [
    "# 数据集"
   ]
  },
  {
   "cell_type": "code",
   "execution_count": 1,
   "metadata": {},
   "outputs": [
    {
     "data": {
      "text/html": [
       "<div>\n",
       "<style scoped>\n",
       "    .dataframe tbody tr th:only-of-type {\n",
       "        vertical-align: middle;\n",
       "    }\n",
       "\n",
       "    .dataframe tbody tr th {\n",
       "        vertical-align: top;\n",
       "    }\n",
       "\n",
       "    .dataframe thead th {\n",
       "        text-align: right;\n",
       "    }\n",
       "</style>\n",
       "<table border=\"1\" class=\"dataframe\">\n",
       "  <thead>\n",
       "    <tr style=\"text-align: right;\">\n",
       "      <th></th>\n",
       "      <th>hotel</th>\n",
       "      <th>is_canceled</th>\n",
       "      <th>lead_time</th>\n",
       "      <th>arrival_date_year</th>\n",
       "      <th>arrival_date_month</th>\n",
       "      <th>arrival_date_week_number</th>\n",
       "      <th>arrival_date_day_of_month</th>\n",
       "      <th>stays_in_weekend_nights</th>\n",
       "      <th>stays_in_week_nights</th>\n",
       "      <th>adults</th>\n",
       "      <th>...</th>\n",
       "      <th>deposit_type</th>\n",
       "      <th>agent</th>\n",
       "      <th>company</th>\n",
       "      <th>days_in_waiting_list</th>\n",
       "      <th>customer_type</th>\n",
       "      <th>adr</th>\n",
       "      <th>required_car_parking_spaces</th>\n",
       "      <th>total_of_special_requests</th>\n",
       "      <th>reservation_status</th>\n",
       "      <th>reservation_status_date</th>\n",
       "    </tr>\n",
       "  </thead>\n",
       "  <tbody>\n",
       "    <tr>\n",
       "      <th>0</th>\n",
       "      <td>Resort Hotel</td>\n",
       "      <td>0</td>\n",
       "      <td>342</td>\n",
       "      <td>2015</td>\n",
       "      <td>July</td>\n",
       "      <td>27</td>\n",
       "      <td>1</td>\n",
       "      <td>0</td>\n",
       "      <td>0</td>\n",
       "      <td>2</td>\n",
       "      <td>...</td>\n",
       "      <td>No Deposit</td>\n",
       "      <td>NaN</td>\n",
       "      <td>NaN</td>\n",
       "      <td>0</td>\n",
       "      <td>Transient</td>\n",
       "      <td>0.00</td>\n",
       "      <td>0</td>\n",
       "      <td>0</td>\n",
       "      <td>Check-Out</td>\n",
       "      <td>2015-07-01</td>\n",
       "    </tr>\n",
       "    <tr>\n",
       "      <th>1</th>\n",
       "      <td>Resort Hotel</td>\n",
       "      <td>0</td>\n",
       "      <td>737</td>\n",
       "      <td>2015</td>\n",
       "      <td>July</td>\n",
       "      <td>27</td>\n",
       "      <td>1</td>\n",
       "      <td>0</td>\n",
       "      <td>0</td>\n",
       "      <td>2</td>\n",
       "      <td>...</td>\n",
       "      <td>No Deposit</td>\n",
       "      <td>NaN</td>\n",
       "      <td>NaN</td>\n",
       "      <td>0</td>\n",
       "      <td>Transient</td>\n",
       "      <td>0.00</td>\n",
       "      <td>0</td>\n",
       "      <td>0</td>\n",
       "      <td>Check-Out</td>\n",
       "      <td>2015-07-01</td>\n",
       "    </tr>\n",
       "    <tr>\n",
       "      <th>2</th>\n",
       "      <td>Resort Hotel</td>\n",
       "      <td>0</td>\n",
       "      <td>7</td>\n",
       "      <td>2015</td>\n",
       "      <td>July</td>\n",
       "      <td>27</td>\n",
       "      <td>1</td>\n",
       "      <td>0</td>\n",
       "      <td>1</td>\n",
       "      <td>1</td>\n",
       "      <td>...</td>\n",
       "      <td>No Deposit</td>\n",
       "      <td>NaN</td>\n",
       "      <td>NaN</td>\n",
       "      <td>0</td>\n",
       "      <td>Transient</td>\n",
       "      <td>75.00</td>\n",
       "      <td>0</td>\n",
       "      <td>0</td>\n",
       "      <td>Check-Out</td>\n",
       "      <td>2015-07-02</td>\n",
       "    </tr>\n",
       "    <tr>\n",
       "      <th>3</th>\n",
       "      <td>Resort Hotel</td>\n",
       "      <td>0</td>\n",
       "      <td>13</td>\n",
       "      <td>2015</td>\n",
       "      <td>July</td>\n",
       "      <td>27</td>\n",
       "      <td>1</td>\n",
       "      <td>0</td>\n",
       "      <td>1</td>\n",
       "      <td>1</td>\n",
       "      <td>...</td>\n",
       "      <td>No Deposit</td>\n",
       "      <td>304.0</td>\n",
       "      <td>NaN</td>\n",
       "      <td>0</td>\n",
       "      <td>Transient</td>\n",
       "      <td>75.00</td>\n",
       "      <td>0</td>\n",
       "      <td>0</td>\n",
       "      <td>Check-Out</td>\n",
       "      <td>2015-07-02</td>\n",
       "    </tr>\n",
       "    <tr>\n",
       "      <th>4</th>\n",
       "      <td>Resort Hotel</td>\n",
       "      <td>0</td>\n",
       "      <td>14</td>\n",
       "      <td>2015</td>\n",
       "      <td>July</td>\n",
       "      <td>27</td>\n",
       "      <td>1</td>\n",
       "      <td>0</td>\n",
       "      <td>2</td>\n",
       "      <td>2</td>\n",
       "      <td>...</td>\n",
       "      <td>No Deposit</td>\n",
       "      <td>240.0</td>\n",
       "      <td>NaN</td>\n",
       "      <td>0</td>\n",
       "      <td>Transient</td>\n",
       "      <td>98.00</td>\n",
       "      <td>0</td>\n",
       "      <td>1</td>\n",
       "      <td>Check-Out</td>\n",
       "      <td>2015-07-03</td>\n",
       "    </tr>\n",
       "    <tr>\n",
       "      <th>...</th>\n",
       "      <td>...</td>\n",
       "      <td>...</td>\n",
       "      <td>...</td>\n",
       "      <td>...</td>\n",
       "      <td>...</td>\n",
       "      <td>...</td>\n",
       "      <td>...</td>\n",
       "      <td>...</td>\n",
       "      <td>...</td>\n",
       "      <td>...</td>\n",
       "      <td>...</td>\n",
       "      <td>...</td>\n",
       "      <td>...</td>\n",
       "      <td>...</td>\n",
       "      <td>...</td>\n",
       "      <td>...</td>\n",
       "      <td>...</td>\n",
       "      <td>...</td>\n",
       "      <td>...</td>\n",
       "      <td>...</td>\n",
       "      <td>...</td>\n",
       "    </tr>\n",
       "    <tr>\n",
       "      <th>119385</th>\n",
       "      <td>City Hotel</td>\n",
       "      <td>0</td>\n",
       "      <td>23</td>\n",
       "      <td>2017</td>\n",
       "      <td>August</td>\n",
       "      <td>35</td>\n",
       "      <td>30</td>\n",
       "      <td>2</td>\n",
       "      <td>5</td>\n",
       "      <td>2</td>\n",
       "      <td>...</td>\n",
       "      <td>No Deposit</td>\n",
       "      <td>394.0</td>\n",
       "      <td>NaN</td>\n",
       "      <td>0</td>\n",
       "      <td>Transient</td>\n",
       "      <td>96.14</td>\n",
       "      <td>0</td>\n",
       "      <td>0</td>\n",
       "      <td>Check-Out</td>\n",
       "      <td>2017-09-06</td>\n",
       "    </tr>\n",
       "    <tr>\n",
       "      <th>119386</th>\n",
       "      <td>City Hotel</td>\n",
       "      <td>0</td>\n",
       "      <td>102</td>\n",
       "      <td>2017</td>\n",
       "      <td>August</td>\n",
       "      <td>35</td>\n",
       "      <td>31</td>\n",
       "      <td>2</td>\n",
       "      <td>5</td>\n",
       "      <td>3</td>\n",
       "      <td>...</td>\n",
       "      <td>No Deposit</td>\n",
       "      <td>9.0</td>\n",
       "      <td>NaN</td>\n",
       "      <td>0</td>\n",
       "      <td>Transient</td>\n",
       "      <td>225.43</td>\n",
       "      <td>0</td>\n",
       "      <td>2</td>\n",
       "      <td>Check-Out</td>\n",
       "      <td>2017-09-07</td>\n",
       "    </tr>\n",
       "    <tr>\n",
       "      <th>119387</th>\n",
       "      <td>City Hotel</td>\n",
       "      <td>0</td>\n",
       "      <td>34</td>\n",
       "      <td>2017</td>\n",
       "      <td>August</td>\n",
       "      <td>35</td>\n",
       "      <td>31</td>\n",
       "      <td>2</td>\n",
       "      <td>5</td>\n",
       "      <td>2</td>\n",
       "      <td>...</td>\n",
       "      <td>No Deposit</td>\n",
       "      <td>9.0</td>\n",
       "      <td>NaN</td>\n",
       "      <td>0</td>\n",
       "      <td>Transient</td>\n",
       "      <td>157.71</td>\n",
       "      <td>0</td>\n",
       "      <td>4</td>\n",
       "      <td>Check-Out</td>\n",
       "      <td>2017-09-07</td>\n",
       "    </tr>\n",
       "    <tr>\n",
       "      <th>119388</th>\n",
       "      <td>City Hotel</td>\n",
       "      <td>0</td>\n",
       "      <td>109</td>\n",
       "      <td>2017</td>\n",
       "      <td>August</td>\n",
       "      <td>35</td>\n",
       "      <td>31</td>\n",
       "      <td>2</td>\n",
       "      <td>5</td>\n",
       "      <td>2</td>\n",
       "      <td>...</td>\n",
       "      <td>No Deposit</td>\n",
       "      <td>89.0</td>\n",
       "      <td>NaN</td>\n",
       "      <td>0</td>\n",
       "      <td>Transient</td>\n",
       "      <td>104.40</td>\n",
       "      <td>0</td>\n",
       "      <td>0</td>\n",
       "      <td>Check-Out</td>\n",
       "      <td>2017-09-07</td>\n",
       "    </tr>\n",
       "    <tr>\n",
       "      <th>119389</th>\n",
       "      <td>City Hotel</td>\n",
       "      <td>0</td>\n",
       "      <td>205</td>\n",
       "      <td>2017</td>\n",
       "      <td>August</td>\n",
       "      <td>35</td>\n",
       "      <td>29</td>\n",
       "      <td>2</td>\n",
       "      <td>7</td>\n",
       "      <td>2</td>\n",
       "      <td>...</td>\n",
       "      <td>No Deposit</td>\n",
       "      <td>9.0</td>\n",
       "      <td>NaN</td>\n",
       "      <td>0</td>\n",
       "      <td>Transient</td>\n",
       "      <td>151.20</td>\n",
       "      <td>0</td>\n",
       "      <td>2</td>\n",
       "      <td>Check-Out</td>\n",
       "      <td>2017-09-07</td>\n",
       "    </tr>\n",
       "  </tbody>\n",
       "</table>\n",
       "<p>119390 rows × 32 columns</p>\n",
       "</div>"
      ],
      "text/plain": [
       "               hotel  is_canceled  lead_time  arrival_date_year  \\\n",
       "0       Resort Hotel            0        342               2015   \n",
       "1       Resort Hotel            0        737               2015   \n",
       "2       Resort Hotel            0          7               2015   \n",
       "3       Resort Hotel            0         13               2015   \n",
       "4       Resort Hotel            0         14               2015   \n",
       "...              ...          ...        ...                ...   \n",
       "119385    City Hotel            0         23               2017   \n",
       "119386    City Hotel            0        102               2017   \n",
       "119387    City Hotel            0         34               2017   \n",
       "119388    City Hotel            0        109               2017   \n",
       "119389    City Hotel            0        205               2017   \n",
       "\n",
       "       arrival_date_month  arrival_date_week_number  \\\n",
       "0                    July                        27   \n",
       "1                    July                        27   \n",
       "2                    July                        27   \n",
       "3                    July                        27   \n",
       "4                    July                        27   \n",
       "...                   ...                       ...   \n",
       "119385             August                        35   \n",
       "119386             August                        35   \n",
       "119387             August                        35   \n",
       "119388             August                        35   \n",
       "119389             August                        35   \n",
       "\n",
       "        arrival_date_day_of_month  stays_in_weekend_nights  \\\n",
       "0                               1                        0   \n",
       "1                               1                        0   \n",
       "2                               1                        0   \n",
       "3                               1                        0   \n",
       "4                               1                        0   \n",
       "...                           ...                      ...   \n",
       "119385                         30                        2   \n",
       "119386                         31                        2   \n",
       "119387                         31                        2   \n",
       "119388                         31                        2   \n",
       "119389                         29                        2   \n",
       "\n",
       "        stays_in_week_nights  adults  ...  deposit_type  agent company  \\\n",
       "0                          0       2  ...    No Deposit    NaN     NaN   \n",
       "1                          0       2  ...    No Deposit    NaN     NaN   \n",
       "2                          1       1  ...    No Deposit    NaN     NaN   \n",
       "3                          1       1  ...    No Deposit  304.0     NaN   \n",
       "4                          2       2  ...    No Deposit  240.0     NaN   \n",
       "...                      ...     ...  ...           ...    ...     ...   \n",
       "119385                     5       2  ...    No Deposit  394.0     NaN   \n",
       "119386                     5       3  ...    No Deposit    9.0     NaN   \n",
       "119387                     5       2  ...    No Deposit    9.0     NaN   \n",
       "119388                     5       2  ...    No Deposit   89.0     NaN   \n",
       "119389                     7       2  ...    No Deposit    9.0     NaN   \n",
       "\n",
       "       days_in_waiting_list customer_type     adr  \\\n",
       "0                         0     Transient    0.00   \n",
       "1                         0     Transient    0.00   \n",
       "2                         0     Transient   75.00   \n",
       "3                         0     Transient   75.00   \n",
       "4                         0     Transient   98.00   \n",
       "...                     ...           ...     ...   \n",
       "119385                    0     Transient   96.14   \n",
       "119386                    0     Transient  225.43   \n",
       "119387                    0     Transient  157.71   \n",
       "119388                    0     Transient  104.40   \n",
       "119389                    0     Transient  151.20   \n",
       "\n",
       "        required_car_parking_spaces  total_of_special_requests  \\\n",
       "0                                 0                          0   \n",
       "1                                 0                          0   \n",
       "2                                 0                          0   \n",
       "3                                 0                          0   \n",
       "4                                 0                          1   \n",
       "...                             ...                        ...   \n",
       "119385                            0                          0   \n",
       "119386                            0                          2   \n",
       "119387                            0                          4   \n",
       "119388                            0                          0   \n",
       "119389                            0                          2   \n",
       "\n",
       "        reservation_status reservation_status_date  \n",
       "0                Check-Out              2015-07-01  \n",
       "1                Check-Out              2015-07-01  \n",
       "2                Check-Out              2015-07-02  \n",
       "3                Check-Out              2015-07-02  \n",
       "4                Check-Out              2015-07-03  \n",
       "...                    ...                     ...  \n",
       "119385           Check-Out              2017-09-06  \n",
       "119386           Check-Out              2017-09-07  \n",
       "119387           Check-Out              2017-09-07  \n",
       "119388           Check-Out              2017-09-07  \n",
       "119389           Check-Out              2017-09-07  \n",
       "\n",
       "[119390 rows x 32 columns]"
      ]
     },
     "execution_count": 1,
     "metadata": {},
     "output_type": "execute_result"
    }
   ],
   "source": [
    "import pandas as pd\n",
    "import matplotlib.pyplot as plt\n",
    "import numpy as np\n",
    "from numpy import *\n",
    "import matplotlib as mpl\n",
    "from math import *\n",
    "from sklearn.linear_model import LinearRegression\n",
    "hb_reviews = pd.read_csv(\"./data/hotel_bookings.csv\")\n",
    "hb_reviews\n",
    "#数据导入"
   ]
  },
  {
   "cell_type": "markdown",
   "metadata": {},
   "source": [
    "# 基本情况"
   ]
  },
  {
   "cell_type": "code",
   "execution_count": 2,
   "metadata": {},
   "outputs": [],
   "source": [
    "#预定需求"
   ]
  },
  {
   "cell_type": "code",
   "execution_count": 3,
   "metadata": {},
   "outputs": [
    {
     "data": {
      "text/plain": [
       "hotel\n",
       "Resort Hotel    40060\n",
       "City Hotel      79330\n",
       "Name: hotel, dtype: int64"
      ]
     },
     "execution_count": 3,
     "metadata": {},
     "output_type": "execute_result"
    }
   ],
   "source": [
    "hotel_reviews = hb_reviews.groupby('hotel').hotel.count().sort_values()\n",
    "hotel_reviews"
   ]
  },
  {
   "cell_type": "code",
   "execution_count": 4,
   "metadata": {},
   "outputs": [],
   "source": [
    "#城市酒店和假日酒店预定人数比较"
   ]
  },
  {
   "cell_type": "code",
   "execution_count": 5,
   "metadata": {},
   "outputs": [
    {
     "data": {
      "text/plain": [
       "<matplotlib.axes._subplots.AxesSubplot at 0x2531a215d60>"
      ]
     },
     "execution_count": 5,
     "metadata": {},
     "output_type": "execute_result"
    },
    {
     "data": {
      "image/png": "[encoded data removed]",
      "text/plain": [
       "<Figure size 432x288 with 1 Axes>"
      ]
     },
     "metadata": {},
     "output_type": "display_data"
    }
   ],
   "source": [
    "hotel_reviews.plot.pie(autopct = '%3.1f %%')"
   ]
  },
  {
   "cell_type": "code",
   "execution_count": 6,
   "metadata": {},
   "outputs": [],
   "source": [
    "#分析：入住城市酒店的比例更多，占到接近2/3."
   ]
  },
  {
   "cell_type": "code",
   "execution_count": 7,
   "metadata": {},
   "outputs": [],
   "source": [
    "#入住率"
   ]
  },
  {
   "cell_type": "code",
   "execution_count": 8,
   "metadata": {},
   "outputs": [
    {
     "data": {
      "text/plain": [
       "hotel_trans\n",
       "Resort Hotel Canceled    11122\n",
       "Resort Hotel Check in    28938\n",
       "City Hotel Canceled      33102\n",
       "City Hotel Check in      46228\n",
       "Name: hotel_trans, dtype: int64"
      ]
     },
     "execution_count": 8,
     "metadata": {},
     "output_type": "execute_result"
    }
   ],
   "source": [
    "def judge_is_canceled(hotel,is_canceled):\n",
    "    if is_canceled == 1 and hotel == 'City Hotel':\n",
    "        return 'City Hotel Canceled'\n",
    "    elif is_canceled == 0 and hotel == 'City Hotel':\n",
    "        return 'City Hotel Check in'\n",
    "    elif is_canceled == 1 and hotel == 'Resort Hotel':\n",
    "        return 'Resort Hotel Canceled'\n",
    "    elif is_canceled == 0 and hotel == 'Resort Hotel':\n",
    "        return 'Resort Hotel Check in'\n",
    "\n",
    "hb_reviews['hotel_trans'] = hb_reviews.apply(lambda x: judge_is_canceled(x.hotel , x.is_canceled) , axis = 1)\n",
    "hotel_trans_reviews = hb_reviews.groupby('hotel_trans').hotel_trans.count().sort_values()\n",
    "hotel_trans_reviews"
   ]
  },
  {
   "cell_type": "code",
   "execution_count": 9,
   "metadata": {},
   "outputs": [
    {
     "data": {
      "image/png": "[encoded data removed]",
      "text/plain": [
       "<Figure size 432x288 with 1 Axes>"
      ]
     },
     "metadata": {},
     "output_type": "display_data"
    },
    {
     "data": {
      "image/png": "[encoded data removed]",
      "text/plain": [
       "<Figure size 432x288 with 1 Axes>"
      ]
     },
     "metadata": {},
     "output_type": "display_data"
    }
   ],
   "source": [
    "city_hotel_num = pd.Series({'Check in' : 46228/(33102+46228), 'Canceled' : 33102/(33102+46228)})\n",
    "city_hotel_num.name = ''\n",
    "resort_hotel_num = pd.Series({'Check in' : 28938/(11122+28938), 'Canceled' : 11122/(11122+28938)})\n",
    "resort_hotel_num.name = ''\n",
    "#画图\n",
    "plt.axes(aspect = 'equal')\n",
    "city_hotel_num.plot(kind = 'pie', autopct='%.1f%%', title = 'Occupancy Rate of City Hotel')\n",
    "plt.figure()\n",
    "resort_hotel_num.plot(kind = 'pie', autopct='%.1f%%', title = 'Occupancy Rate of Resort Hotel')\n",
    "plt.show()"
   ]
  },
  {
   "cell_type": "code",
   "execution_count": 10,
   "metadata": {},
   "outputs": [],
   "source": [
    "#分析：城市酒店预订的取消率更高。"
   ]
  },
  {
   "cell_type": "markdown",
   "metadata": {},
   "source": [
    "# 用户行为"
   ]
  },
  {
   "cell_type": "code",
   "execution_count": 11,
   "metadata": {},
   "outputs": [
    {
     "data": {
      "text/plain": [
       "<matplotlib.axes._subplots.AxesSubplot at 0x2531ba295b0>"
      ]
     },
     "execution_count": 11,
     "metadata": {},
     "output_type": "execute_result"
    },
    {
     "data": {
      "image/png": "[encoded data removed]",
      "text/plain": [
       "<Figure size 432x288 with 1 Axes>"
      ]
     },
     "metadata": {
      "needs_background": "light"
     },
     "output_type": "display_data"
    }
   ],
   "source": [
    "#提前预定时间\n",
    "def judge_lead_time(lead_time):\n",
    "    if lead_time == 0:\n",
    "        return '0 days'\n",
    "    elif lead_time == 1:\n",
    "        return '1 day'\n",
    "    elif lead_time == 2:\n",
    "        return '2 days'\n",
    "    elif lead_time == 3:\n",
    "        return '3 days'\n",
    "    elif lead_time == 4:\n",
    "        return '4 days'\n",
    "    elif lead_time == 5:\n",
    "        return '5 days'\n",
    "    elif lead_time == 6:\n",
    "        return '6 days'\n",
    "    elif lead_time == 7:\n",
    "        return '7 days'\n",
    "    elif lead_time > 7 and lead_time <= 14:\n",
    "        return 'over 1 week'\n",
    "    elif lead_time > 14 and lead_time <= 21:\n",
    "        return 'over 2 weeks'\n",
    "    elif lead_time > 21 and lead_time <= 28:\n",
    "        return 'over 3 weeks'\n",
    "    elif lead_time > 28 and lead_time <= 35:\n",
    "        return 'over 4 weeks'\n",
    "    elif lead_time > 35 and lead_time <= 42:\n",
    "        return 'over 5 weeks'\n",
    "    elif lead_time > 42 and lead_time <= 49:\n",
    "        return 'over 6 weeks'\n",
    "    elif lead_time > 49 and lead_time <= 56:\n",
    "        return 'over 7 weeks'\n",
    "    elif lead_time > 56 and lead_time <= 63:\n",
    "        return 'over 8 weeks'\n",
    "    elif lead_time > 63 and lead_time <= 70:\n",
    "        return 'over 9 weeks'\n",
    "    elif lead_time > 70 and lead_time <= 77:\n",
    "        return 'over 10 weeks'\n",
    "    elif lead_time > 77 and lead_time <= 84:\n",
    "        return 'over 11 weeks'\n",
    "    elif lead_time > 84 and lead_time <= 91:\n",
    "        return 'over 12 weeks'\n",
    "    elif lead_time > 91:\n",
    "        return 'over 3 months'\n",
    "\n",
    "hb_reviews['lead_time_trans'] = hb_reviews.apply(lambda x: judge_lead_time(x.lead_time) , axis = 1)\n",
    "lead_time_trans_reviews = hb_reviews.groupby('lead_time_trans').lead_time_trans.count().sort_values()\n",
    "lead_time_trans_reviews.plot.bar()\n"
   ]
  },
  {
   "cell_type": "code",
   "execution_count": 12,
   "metadata": {},
   "outputs": [
    {
     "name": "stdout",
     "output_type": "stream",
     "text": [
      "lead_time_trans\n",
      "7 days            1.114834\n",
      "6 days            1.210319\n",
      "5 days            1.310830\n",
      "4 days            1.436469\n",
      "3 days            1.521065\n",
      "2 days            1.732976\n",
      "over 12 weeks     2.215428\n",
      "over 11 weeks     2.225480\n",
      "over 10 weeks     2.519474\n",
      "over 8 weeks      2.629198\n",
      "over 9 weeks      2.748974\n",
      "1 day             2.898065\n",
      "over 7 weeks      2.999414\n",
      "over 6 weeks      3.096574\n",
      "over 5 weeks      3.666136\n",
      "over 3 weeks      4.027138\n",
      "over 4 weeks      4.080744\n",
      "over 2 weeks      4.820337\n",
      "0 days            5.314515\n",
      "over 1 week       5.884915\n",
      "over 3 months    42.547114\n",
      "Name: lead_time_trans, dtype: float64\n"
     ]
    }
   ],
   "source": [
    "#占总数的百分比\n",
    "print(100*lead_time_trans_reviews/sum(lead_time_trans_reviews))"
   ]
  },
  {
   "cell_type": "code",
   "execution_count": 13,
   "metadata": {},
   "outputs": [],
   "source": [
    "#分析：有42%的人会提前3个月以上规划行程，没有提前预订的人更可能在入住1-2周前预订或入住当天预订。"
   ]
  },
  {
   "cell_type": "code",
   "execution_count": 14,
   "metadata": {},
   "outputs": [
    {
     "data": {
      "text/plain": [
       "<matplotlib.axes._subplots.AxesSubplot at 0x2531a35a970>"
      ]
     },
     "execution_count": 14,
     "metadata": {},
     "output_type": "execute_result"
    },
    {
     "data": {
      "image/png": "[encoded data removed]",
      "text/plain": [
       "<Figure size 432x288 with 1 Axes>"
      ]
     },
     "metadata": {
      "needs_background": "light"
     },
     "output_type": "display_data"
    }
   ],
   "source": [
    "#入住时长\n",
    "def judge_stays_time(stays_in_weekend_nights,stays_in_week_nights):\n",
    "    if stays_in_weekend_nights + stays_in_week_nights == 0:\n",
    "        return '0 days'\n",
    "    elif stays_in_weekend_nights + stays_in_week_nights == 1:\n",
    "        return '1 day'\n",
    "    elif stays_in_weekend_nights + stays_in_week_nights == 2:\n",
    "        return '2 days'\n",
    "    elif stays_in_weekend_nights + stays_in_week_nights == 3:\n",
    "        return '3 days'\n",
    "    elif stays_in_weekend_nights + stays_in_week_nights == 4:\n",
    "        return '4 days'\n",
    "    elif stays_in_weekend_nights + stays_in_week_nights == 5:\n",
    "        return '5 days'\n",
    "    elif stays_in_weekend_nights + stays_in_week_nights == 6:\n",
    "        return '6 days'\n",
    "    elif stays_in_weekend_nights + stays_in_week_nights == 7:\n",
    "        return '7 days'\n",
    "    elif stays_in_weekend_nights + stays_in_week_nights == 8:\n",
    "        return '8 days'\n",
    "    elif stays_in_weekend_nights + stays_in_week_nights == 9:\n",
    "        return '9 days'\n",
    "    elif stays_in_weekend_nights + stays_in_week_nights == 10:\n",
    "        return '10 days'\n",
    "    elif stays_in_weekend_nights + stays_in_week_nights == 11:\n",
    "        return '11 days'\n",
    "    elif stays_in_weekend_nights + stays_in_week_nights == 12:\n",
    "        return '12 days'\n",
    "    elif stays_in_weekend_nights + stays_in_week_nights == 13:\n",
    "        return '13 days'\n",
    "    elif stays_in_weekend_nights + stays_in_week_nights == 14:\n",
    "        return '14 days'\n",
    "    elif stays_in_weekend_nights + stays_in_week_nights > 14 and stays_in_weekend_nights + stays_in_week_nights <= 21:\n",
    "        return 'over 2 weeks'\n",
    "    elif stays_in_weekend_nights + stays_in_week_nights > 21 and stays_in_weekend_nights + stays_in_week_nights <= 28:\n",
    "        return 'over 3 weeks'\n",
    "    elif stays_in_weekend_nights + stays_in_week_nights > 28:\n",
    "        return 'over 1 month'\n",
    "\n",
    "hb_reviews['stays_time_trans'] = hb_reviews.apply(lambda x: judge_stays_time(x.stays_in_weekend_nights , x.stays_in_week_nights) , axis = 1)\n",
    "stays_time_trans_reviews = hb_reviews.groupby('stays_time_trans').stays_time_trans.count().sort_values()\n",
    "stays_time_trans_reviews.plot.bar()"
   ]
  },
  {
   "cell_type": "code",
   "execution_count": 15,
   "metadata": {},
   "outputs": [
    {
     "name": "stdout",
     "output_type": "stream",
     "text": [
      "stays_time_trans\n",
      "over 1 month     0.042717\n",
      "over 3 weeks     0.092973\n",
      "13 days          0.118938\n",
      "12 days          0.186783\n",
      "over 2 weeks     0.232013\n",
      "11 days          0.331686\n",
      "0 days           0.598878\n",
      "9 days           0.704414\n",
      "14 days          0.767233\n",
      "10 days          0.954016\n",
      "8 days           0.972443\n",
      "6 days           3.230589\n",
      "5 days           6.519809\n",
      "7 days           7.249351\n",
      "4 days          14.559846\n",
      "1 day           17.606165\n",
      "3 days          22.678616\n",
      "2 days          23.153530\n",
      "Name: stays_time_trans, dtype: float64\n"
     ]
    }
   ],
   "source": [
    "#占总数的百分比\n",
    "print(100*stays_time_trans_reviews/sum(stays_time_trans_reviews))"
   ]
  },
  {
   "cell_type": "code",
   "execution_count": 16,
   "metadata": {},
   "outputs": [],
   "source": [
    "#分析：绝大多数人入住时长在不超过一周，其中又以1-4天为多数。"
   ]
  },
  {
   "cell_type": "code",
   "execution_count": 17,
   "metadata": {},
   "outputs": [
    {
     "name": "stdout",
     "output_type": "stream",
     "text": [
      "days_in_waiting_list_trans\n",
      "over 1 week          0.061982\n",
      "less than 1 week     0.108049\n",
      "over 3 weeks         0.153279\n",
      "over 2 weeks         0.170869\n",
      "over 1 month         2.603233\n",
      "0 days              96.902588\n",
      "Name: days_in_waiting_list_trans, dtype: float64\n"
     ]
    }
   ],
   "source": [
    "#预订等待间隔时间\n",
    "def judge_days_in_waiting_list(days_in_waiting_list):\n",
    "    if days_in_waiting_list == 0:\n",
    "        return '0 days'\n",
    "    elif days_in_waiting_list <=7:\n",
    "        return 'less than 1 week'\n",
    "    elif days_in_waiting_list > 7 and days_in_waiting_list <= 14:\n",
    "        return 'over 1 week'\n",
    "    elif days_in_waiting_list > 14 and days_in_waiting_list <= 21:\n",
    "        return 'over 2 weeks'\n",
    "    elif days_in_waiting_list > 21 and days_in_waiting_list <= 28:\n",
    "        return 'over 3 weeks'\n",
    "    elif days_in_waiting_list > 28:\n",
    "        return 'over 1 month'\n",
    "\n",
    "hb_reviews['days_in_waiting_list_trans'] = hb_reviews.apply(lambda x: judge_days_in_waiting_list(x.days_in_waiting_list) , axis = 1)\n",
    "days_in_waiting_list_trans_reviews = hb_reviews.groupby('days_in_waiting_list_trans').days_in_waiting_list_trans.count().sort_values()\n",
    "#占总数的百分比\n",
    "print(100*days_in_waiting_list_trans_reviews/sum(days_in_waiting_list_trans_reviews))"
   ]
  },
  {
   "cell_type": "code",
   "execution_count": 18,
   "metadata": {},
   "outputs": [
    {
     "data": {
      "image/png": "[encoded data removed]",
      "text/plain": [
       "<Figure size 432x288 with 1 Axes>"
      ]
     },
     "metadata": {},
     "output_type": "display_data"
    }
   ],
   "source": [
    "days_in_waiting_list_trans_num = days_in_waiting_list_trans_reviews/sum(days_in_waiting_list_trans_reviews)\n",
    "days_in_waiting_list_trans_num.name = ''\n",
    "#画图\n",
    "plt.axes(aspect = 'equal')\n",
    "days_in_waiting_list_trans_num.plot(kind = 'pie', autopct='%.1f%%', title = 'days_in_waiting_list')\n",
    "plt.show()"
   ]
  },
  {
   "cell_type": "code",
   "execution_count": 19,
   "metadata": {},
   "outputs": [],
   "source": [
    "#分析：通常情况下，预订等待时间不会超过1天，长期等待可能是其他特殊因素造成。"
   ]
  },
  {
   "cell_type": "code",
   "execution_count": 20,
   "metadata": {},
   "outputs": [
    {
     "data": {
      "text/plain": [
       "meal\n",
       "FB             798\n",
       "Undefined     1169\n",
       "SC           10650\n",
       "HB           14463\n",
       "BB           92310\n",
       "Name: meal, dtype: int64"
      ]
     },
     "execution_count": 20,
     "metadata": {},
     "output_type": "execute_result"
    }
   ],
   "source": [
    "#餐食预订情况\n",
    "meal_reviews = hb_reviews.groupby('meal').meal.count().sort_values()\n",
    "meal_reviews"
   ]
  },
  {
   "cell_type": "code",
   "execution_count": 21,
   "metadata": {},
   "outputs": [
    {
     "data": {
      "text/plain": [
       "meal\n",
       "FB            0.668398\n",
       "Undefined     0.979144\n",
       "SC            8.920345\n",
       "HB           12.114080\n",
       "BB           77.318033\n",
       "Name: meal, dtype: float64"
      ]
     },
     "execution_count": 21,
     "metadata": {},
     "output_type": "execute_result"
    }
   ],
   "source": [
    "100*meal_reviews/sum(meal_reviews)"
   ]
  },
  {
   "cell_type": "code",
   "execution_count": 22,
   "metadata": {},
   "outputs": [
    {
     "data": {
      "image/png": "[encoded data removed]",
      "text/plain": [
       "<Figure size 432x288 with 1 Axes>"
      ]
     },
     "metadata": {},
     "output_type": "display_data"
    }
   ],
   "source": [
    "meal_num = meal_reviews/sum(meal_reviews)\n",
    "meal_num.name = ''\n",
    "#画图\n",
    "plt.axes(aspect = 'equal')\n",
    "meal_num.plot(kind = 'pie', autopct='%.1f%%', title = 'meal')\n",
    "plt.show()"
   ]
  },
  {
   "cell_type": "code",
   "execution_count": 23,
   "metadata": {},
   "outputs": [],
   "source": [
    "#分析：77.3%的客户选择预订早餐服务，12%的客户选择早晚餐服务，10%的客户没有选择订餐，仅有少于1%的客户选择预订三餐。"
   ]
  },
  {
   "cell_type": "markdown",
   "metadata": {},
   "source": [
    "# 一年中最佳预订酒店时间"
   ]
  },
  {
   "cell_type": "code",
   "execution_count": 24,
   "metadata": {},
   "outputs": [
    {
     "data": {
      "text/plain": [
       "arrival_date_month\n",
       "January       5929\n",
       "December      6780\n",
       "November      6794\n",
       "February      8068\n",
       "March         9794\n",
       "September    10508\n",
       "June         10939\n",
       "April        11089\n",
       "October      11160\n",
       "May          11791\n",
       "July         12661\n",
       "August       13877\n",
       "Name: arrival_date_month, dtype: int64"
      ]
     },
     "execution_count": 24,
     "metadata": {},
     "output_type": "execute_result"
    }
   ],
   "source": [
    "arrival_date_month_reviews = hb_reviews.groupby('arrival_date_month').arrival_date_month.count().sort_values()\n",
    "arrival_date_month_reviews"
   ]
  },
  {
   "cell_type": "code",
   "execution_count": 25,
   "metadata": {},
   "outputs": [],
   "source": [
    "hb_check_adr = hb_reviews[['arrival_date_month','adr']]\n",
    "hb_January = hb_check_adr.loc[hb_check_adr['arrival_date_month']=='January']\n",
    "hb_December = hb_check_adr.loc[hb_check_adr['arrival_date_month']=='December']\n",
    "hb_November = hb_check_adr.loc[hb_check_adr['arrival_date_month']=='November']\n",
    "hb_February = hb_check_adr.loc[hb_check_adr['arrival_date_month']=='February']\n",
    "hb_March = hb_check_adr.loc[hb_check_adr['arrival_date_month']=='March']\n",
    "hb_September = hb_check_adr.loc[hb_check_adr['arrival_date_month']=='September']\n",
    "hb_June = hb_check_adr.loc[hb_check_adr['arrival_date_month']=='June']\n",
    "hb_April = hb_check_adr.loc[hb_check_adr['arrival_date_month']=='April']\n",
    "hb_October = hb_check_adr.loc[hb_check_adr['arrival_date_month']=='October']\n",
    "hb_May = hb_check_adr.loc[hb_check_adr['arrival_date_month']=='May']\n",
    "hb_July = hb_check_adr.loc[hb_check_adr['arrival_date_month']=='July']\n",
    "hb_August = hb_check_adr.loc[hb_check_adr['arrival_date_month']=='August']"
   ]
  },
  {
   "cell_type": "code",
   "execution_count": 26,
   "metadata": {},
   "outputs": [
    {
     "data": {
      "text/plain": [
       "array([51., 71., 85.])"
      ]
     },
     "execution_count": 26,
     "metadata": {},
     "output_type": "execute_result"
    }
   ],
   "source": [
    "#1月入住酒店价格的四分位数\n",
    "np.percentile(hb_January.adr, (25, 50, 75))"
   ]
  },
  {
   "cell_type": "code",
   "execution_count": 27,
   "metadata": {},
   "outputs": [
    {
     "data": {
      "text/plain": [
       "array([56. , 75. , 87.3])"
      ]
     },
     "execution_count": 27,
     "metadata": {},
     "output_type": "execute_result"
    }
   ],
   "source": [
    "#2月入住酒店价格的四分位数\n",
    "np.percentile(hb_February.adr, (25, 50, 75))"
   ]
  },
  {
   "cell_type": "code",
   "execution_count": 28,
   "metadata": {},
   "outputs": [
    {
     "data": {
      "text/plain": [
       "array([62.    , 79.2   , 95.6925])"
      ]
     },
     "execution_count": 28,
     "metadata": {},
     "output_type": "execute_result"
    }
   ],
   "source": [
    "#3月入住酒店价格的四分位数\n",
    "np.percentile(hb_March.adr, (25, 50, 75))"
   ]
  },
  {
   "cell_type": "code",
   "execution_count": 29,
   "metadata": {},
   "outputs": [
    {
     "data": {
      "text/plain": [
       "array([ 77. ,  96.3, 119. ])"
      ]
     },
     "execution_count": 29,
     "metadata": {},
     "output_type": "execute_result"
    }
   ],
   "source": [
    "#4月入住酒店价格的四分位数\n",
    "np.percentile(hb_April.adr, (25, 50, 75))"
   ]
  },
  {
   "cell_type": "code",
   "execution_count": 30,
   "metadata": {},
   "outputs": [
    {
     "data": {
      "text/plain": [
       "array([ 80.1, 108. , 132.6])"
      ]
     },
     "execution_count": 30,
     "metadata": {},
     "output_type": "execute_result"
    }
   ],
   "source": [
    "#5月入住酒店价格的四分位数\n",
    "np.percentile(hb_May.adr, (25, 50, 75))"
   ]
  },
  {
   "cell_type": "code",
   "execution_count": 31,
   "metadata": {},
   "outputs": [
    {
     "data": {
      "text/plain": [
       "array([ 92., 115., 135.])"
      ]
     },
     "execution_count": 31,
     "metadata": {},
     "output_type": "execute_result"
    }
   ],
   "source": [
    "#6月入住酒店价格的四分位数\n",
    "np.percentile(hb_June.adr, (25, 50, 75))"
   ]
  },
  {
   "cell_type": "code",
   "execution_count": 32,
   "metadata": {},
   "outputs": [
    {
     "data": {
      "text/plain": [
       "array([ 90. , 118.1, 155.1])"
      ]
     },
     "execution_count": 32,
     "metadata": {},
     "output_type": "execute_result"
    }
   ],
   "source": [
    "#7月入住酒店价格的四分位数\n",
    "np.percentile(hb_July.adr, (25, 50, 75))"
   ]
  },
  {
   "cell_type": "code",
   "execution_count": 33,
   "metadata": {},
   "outputs": [
    {
     "data": {
      "text/plain": [
       "array([ 95. , 130.5, 180. ])"
      ]
     },
     "execution_count": 33,
     "metadata": {},
     "output_type": "execute_result"
    }
   ],
   "source": [
    "#8月入住酒店价格的四分位数\n",
    "np.percentile(hb_August.adr, (25, 50, 75))"
   ]
  },
  {
   "cell_type": "code",
   "execution_count": 34,
   "metadata": {},
   "outputs": [
    {
     "data": {
      "text/plain": [
       "array([ 74.8975, 100.3   , 130.    ])"
      ]
     },
     "execution_count": 34,
     "metadata": {},
     "output_type": "execute_result"
    }
   ],
   "source": [
    "#9月入住酒店价格的四分位数\n",
    "np.percentile(hb_September.adr, (25, 50, 75))"
   ]
  },
  {
   "cell_type": "code",
   "execution_count": 35,
   "metadata": {},
   "outputs": [
    {
     "data": {
      "text/plain": [
       "array([ 62.  ,  85.67, 109.65])"
      ]
     },
     "execution_count": 35,
     "metadata": {},
     "output_type": "execute_result"
    }
   ],
   "source": [
    "#10月入住酒店价格的四分位数\n",
    "np.percentile(hb_October.adr, (25, 50, 75))"
   ]
  },
  {
   "cell_type": "code",
   "execution_count": 36,
   "metadata": {},
   "outputs": [
    {
     "data": {
      "text/plain": [
       "array([51.84, 73.  , 90.  ])"
      ]
     },
     "execution_count": 36,
     "metadata": {},
     "output_type": "execute_result"
    }
   ],
   "source": [
    "#11月入住酒店价格的四分位数\n",
    "np.percentile(hb_November.adr, (25, 50, 75))"
   ]
  },
  {
   "cell_type": "code",
   "execution_count": 37,
   "metadata": {},
   "outputs": [
    {
     "data": {
      "text/plain": [
       "array([58.275, 75.   , 96.   ])"
      ]
     },
     "execution_count": 37,
     "metadata": {},
     "output_type": "execute_result"
    }
   ],
   "source": [
    "#12月入住酒店价格的四分位数\n",
    "np.percentile(hb_December.adr, (25, 50, 75))"
   ]
  },
  {
   "cell_type": "code",
   "execution_count": 38,
   "metadata": {},
   "outputs": [],
   "source": [
    "#分析：综合房间价格和入住人数来看，一年中最适合选择预订1月作为入住时期。"
   ]
  },
  {
   "cell_type": "markdown",
   "metadata": {},
   "source": [
    "# 利用Logistic预测酒店预订"
   ]
  },
  {
   "cell_type": "code",
   "execution_count": 39,
   "metadata": {},
   "outputs": [],
   "source": [
    "def sigmoid(inX):\n",
    "    return 1.0/(1 + np.exp(-inX))\n",
    "#定义激活函数"
   ]
  },
  {
   "cell_type": "code",
   "execution_count": 40,
   "metadata": {},
   "outputs": [],
   "source": [
    "def gradAscent(dataMat, labelMat): \n",
    "    dataMatrix=mat(dataMat) \n",
    "    classLabels=mat(labelMat).transpose() \n",
    "    m,n = shape(dataMatrix)\n",
    "    alpha = 0.001  \n",
    "    maxCycles = 200 \n",
    "    weights = ones((n,1)) \n",
    "    for k in range(maxCycles):\n",
    "        h = sigmoid(dataMatrix*weights)\n",
    "        error = (classLabels - h)     \n",
    "        weights = weights + alpha * dataMatrix.transpose()* error \n",
    "    return weights\n",
    "#梯度上升求最优参数"
   ]
  },
  {
   "cell_type": "code",
   "execution_count": 41,
   "metadata": {},
   "outputs": [],
   "source": [
    "def loadDataSet():   \n",
    "    dataMat = []\n",
    "    labelMat = []\n",
    "    hb_db = pd.read_csv(\"./data/hotel_bookings.csv\")\n",
    "    hb_db_arr = hb_db.values\n",
    "    train_range = 100\n",
    "    for n in range(0,train_range):\n",
    "        dataMat.append([1.0, hb_db_arr[n,2], hb_db_arr[n,27]]) \n",
    "        labelMat.append(int(hb_db_arr[n,1]))\n",
    "    return dataMat,labelMat"
   ]
  },
  {
   "cell_type": "code",
   "execution_count": 42,
   "metadata": {},
   "outputs": [
    {
     "name": "stderr",
     "output_type": "stream",
     "text": [
      "<ipython-input-39-b6cb3047ae4d>:2: RuntimeWarning: overflow encountered in exp\n",
      "  return 1.0/(1 + np.exp(-inX))\n"
     ]
    },
    {
     "data": {
      "image/png": "[encoded data removed]",
      "text/plain": [
       "<Figure size 432x288 with 1 Axes>"
      ]
     },
     "metadata": {
      "needs_background": "light"
     },
     "output_type": "display_data"
    }
   ],
   "source": [
    "dataMat, labelMat = loadDataSet()\n",
    "weights = gradAscent(dataMat, labelMat).getA()\n",
    "dataMat,labelMat=loadDataSet()\n",
    "dataArr = array(dataMat)\n",
    "n = shape(dataArr)[0]\n",
    "xcord1 = []; ycord1 = []\n",
    "xcord2 = []; ycord2 = []\n",
    "for i in range(n):\n",
    "    if int(labelMat[i])== 1:\n",
    "        xcord1.append(dataArr[i,1])\n",
    "        ycord1.append(dataArr[i,2])\n",
    "    else:\n",
    "        xcord2.append(dataArr[i,1])\n",
    "        ycord2.append(dataArr[i,2])\n",
    "fig = plt.figure()\n",
    "ax = fig.add_subplot(111)\n",
    "ax.scatter(xcord1, ycord1, s=30, c='red', marker='s')\n",
    "ax.scatter(xcord2, ycord2, s=30, c='green')\n",
    "x = arange(-3.0, 50.0, 0.1)\n",
    "y = (-weights[0]-weights[1]*x)/weights[2]\n",
    "ax.plot(x, y)\n",
    "plt.xlabel('lead_time')\n",
    "plt.ylabel('adr')\n",
    "plt.show()\n"
   ]
  },
  {
   "cell_type": "code",
   "execution_count": 43,
   "metadata": {},
   "outputs": [],
   "source": [
    "#分析：用提前预定时间和房间价格进行Logistic分类预测"
   ]
  }
 ],
 "metadata": {
  "kernelspec": {
   "display_name": "Python 3",
   "language": "python",
   "name": "python3"
  },
  "language_info": {
   "codemirror_mode": {
    "name": "ipython",
    "version": 3
   },
   "file_extension": ".py",
   "mimetype": "text/x-python",
   "name": "python",
   "nbconvert_exporter": "python",
   "pygments_lexer": "ipython3",
   "version": "3.8.2"
  }
 },
 "nbformat": 4,
 "nbformat_minor": 4
}
